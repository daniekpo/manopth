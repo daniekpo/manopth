{
 "metadata": {
  "language_info": {
   "codemirror_mode": {
    "name": "ipython",
    "version": 3
   },
   "file_extension": ".py",
   "mimetype": "text/x-python",
   "name": "python",
   "nbconvert_exporter": "python",
   "pygments_lexer": "ipython3",
   "version": "3.7.10-final"
  },
  "orig_nbformat": 2,
  "kernelspec": {
   "name": "python371064bitmanopthconda20deaaaea1ce402fa6272647a36950e4",
   "display_name": "Python 3.7.10 64-bit ('manopth': conda)",
   "language": "python"
  }
 },
 "nbformat": 4,
 "nbformat_minor": 2,
 "cells": [
  {
   "cell_type": "code",
   "execution_count": 2,
   "metadata": {},
   "outputs": [],
   "source": [
    "from manopth.manolayer import ManoLayer\n",
    "import numpy as np\n",
    "from manopth.demo import display_hand\n",
    "import torch"
   ]
  },
  {
   "cell_type": "code",
   "execution_count": null,
   "metadata": {},
   "outputs": [],
   "source": [
    "batch_size = 1\n",
    "\n",
    "# number of principal componenets for pose space\n",
    "ncomps = 45\n",
    "\n",
    "mano_layer = ManoLayer(\n",
    "    mano_root=\"mano/models\",\n",
    "    use_pca=True,\n",
    "    ncomps=ncomps,\n",
    "    flat_hand_mean=False\n",
    ")\n",
    "\n",
    "shape = torch.tensor(\n",
    "    [\n",
    "        [10.0, 10.0, 10.0],\n",
    "        [0.25, 0.5, 1.0],\n",
    "        [0.0, 0.0, 1.0],\n",
    "        [0.0, 0.0, 0.5],\n",
    "        [0.25, 0.5, 1.0],\n",
    "        [0.0, 0.0, 1.0],\n",
    "        [0.0, 0.0, 0.7],\n",
    "        [0.25, 0.5, 1.5],\n",
    "        [1.0, 0.0, 1.0],\n",
    "        [0.0, 0.0, 1.5],\n",
    "        [0.25, 0.5, 1.0],\n",
    "        [0.0, 0.0, 1.0],\n",
    "        [0.0, 0.0, 0.7],\n",
    "        [-0.5, 0.5, 1.5],\n",
    "        [0.0, 0.5, 0.0],\n",
    "        [0.0, 1.0, -0.5],\n",
    "    ]\n",
    ")"
   ]
  },
  {
   "cell_type": "code",
   "execution_count": 5,
   "metadata": {},
   "outputs": [
    {
     "output_type": "execute_result",
     "data": {
      "text/plain": [
       "tensor([[0.5673, 0.1089, 0.2303, 0.1064],\n",
       "        [0.2267, 0.8772, 0.8386, 0.7940],\n",
       "        [0.3050, 0.3551, 0.3703, 0.2601]])"
      ]
     },
     "metadata": {},
     "execution_count": 5
    }
   ],
   "source": [
    "x = torch.rand(3, 4)\n",
    "x"
   ]
  }
 ]
}