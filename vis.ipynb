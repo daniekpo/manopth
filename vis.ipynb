{
 "metadata": {
  "language_info": {
   "codemirror_mode": {
    "name": "ipython",
    "version": 3
   },
   "file_extension": ".py",
   "mimetype": "text/x-python",
   "name": "python",
   "nbconvert_exporter": "python",
   "pygments_lexer": "ipython3",
   "version": "3.7.10-final"
  },
  "orig_nbformat": 2,
  "kernelspec": {
   "name": "python371064bitmanopthconda20deaaaea1ce402fa6272647a36950e4",
   "display_name": "Python 3.7.10 64-bit ('manopth': conda)",
   "language": "python"
  }
 },
 "nbformat": 4,
 "nbformat_minor": 2,
 "cells": [
  {
   "cell_type": "code",
   "execution_count": 6,
   "metadata": {},
   "outputs": [],
   "source": [
    "from manopth.manolayer import ManoLayer\n",
    "import numpy as np\n",
    "from manopth.demo import display_hand\n",
    "import torch"
   ]
  },
  {
   "cell_type": "code",
   "execution_count": null,
   "metadata": {},
   "outputs": [],
   "source": [
    "batch_size = 1\n",
    "\n",
    "# number of principal componenets for pose space\n",
    "ncomps = 45\n",
    "\n",
    "mano_layer = ManoLayer(\n",
    "    mano_root=\"mano/models\",\n",
    "    use_pca=True,\n",
    "    ncomps=ncomps,\n",
    "    flat_hand_mean=False\n",
    ")\n",
    "\n",
    "pose = torch.tensor(\n",
    "    [\n",
    "        [10.0, 10.0, 10.0],\n",
    "        [0.25, 0.5, 1.0],\n",
    "        [0.0, 0.0, 1.0],\n",
    "        [0.0, 0.0, 0.5],\n",
    "        [0.25, 0.5, 1.0],\n",
    "        [0.0, 0.0, 1.0],\n",
    "        [0.0, 0.0, 0.7],\n",
    "        [0.25, 0.5, 1.5],\n",
    "        [1.0, 0.0, 1.0],\n",
    "        [0.0, 0.0, 1.5],\n",
    "        [0.25, 0.5, 1.0],\n",
    "        [0.0, 0.0, 1.0],\n",
    "        [0.0, 0.0, 0.7],\n",
    "        [-0.5, 0.5, 1.5],\n",
    "        [0.0, 0.5, 0.0],\n",
    "        [0.0, 1.0, -0.5],\n",
    "    ]\n",
    ")"
   ]
  },
  {
   "cell_type": "code",
   "execution_count": 10,
   "metadata": {},
   "outputs": [
    {
     "output_type": "stream",
     "name": "stdout",
     "text": [
      "torch.Size([4])\n"
     ]
    },
    {
     "output_type": "execute_result",
     "data": {
      "text/plain": [
       "torch.Size([1, 4])"
      ]
     },
     "metadata": {},
     "execution_count": 10
    }
   ],
   "source": [
    "x = torch.rand(4)\n",
    "print(x.shape)\n",
    "x = x.unsqueeze(0)\n",
    "x.shape"
   ]
  }
 ]
}